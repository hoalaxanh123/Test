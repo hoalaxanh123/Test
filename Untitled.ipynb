{
 "cells": [
  {
   "cell_type": "code",
   "execution_count": 14,
   "metadata": {},
   "outputs": [
    {
     "name": "stdout",
     "output_type": "stream",
     "text": [
      "name: ACME\n",
      "shares: 50\n",
      "price: 91.1\n",
      "price: {'year': 2012, 'month': 12, 'day': 21}\n"
     ]
    }
   ],
   "source": [
    "data = [ 'ACME', 50, 91.1, [2012, 12, 21]]\n",
    "date = {}\n",
    "name, shares, price, [date['year'], date['month'], date['day']] = data\n",
    "print('name: %s'%name)\n",
    "print('shares: %s'%shares)\n",
    "print('price: %s'%price)\n",
    "print('price: %s' % (date))"
   ]
  },
  {
   "cell_type": "code",
   "execution_count": 16,
   "metadata": {},
   "outputs": [
    {
     "name": "stdout",
     "output_type": "stream",
     "text": [
      "Dave, dave@example.com, ['773-555-1212', '847-555-1212']\n"
     ]
    }
   ],
   "source": [
    "record = ('Dave', 'dave@example.com', '773-555-1212', '847-555-1212')\n",
    "name, email, *phone = record\n",
    "print( '%s, %s, %s'%(name, email, phone))"
   ]
  },
  {
   "cell_type": "code",
   "execution_count": 23,
   "metadata": {},
   "outputs": [
    {
     "name": "stdout",
     "output_type": "stream",
     "text": [
      "1-2-3-4-5-6-7-8-9\n",
      "1, [2, 3, 4, 5, 6, 7, 8], 9\n"
     ]
    }
   ],
   "source": [
    "arr = [1,2,3,4,5,6,7,8,9]\n",
    "first, *middle, end = arr\n",
    "print(*arr, sep = '-')\n",
    "print('%s, %s, %s'%(first, middle, end))"
   ]
  },
  {
   "cell_type": "code",
   "execution_count": 28,
   "metadata": {},
   "outputs": [
    {
     "name": "stdout",
     "output_type": "stream",
     "text": [
      "nobody, ['*', '-2', '-2', 'Unprivileged User'], /var/empty, /usr/bin/false\n"
     ]
    }
   ],
   "source": [
    "line = 'nobody:*:-2:-2:Unprivileged User:/var/empty:/usr/bin/false'\n",
    "uname, *fields, homedir, sh = line.split(':')\n",
    "print('%s, %s, %s, %s' % (uname, fields, homedir, sh))"
   ]
  },
  {
   "cell_type": "code",
   "execution_count": 29,
   "metadata": {},
   "outputs": [
    {
     "name": "stdout",
     "output_type": "stream",
     "text": [
      "ACME, 18\n"
     ]
    }
   ],
   "source": [
    "record = ('ACME', 50, 123.45, (12, 18, 2012))\n",
    "name, *_, (_,day,_) = record\n",
    "print('%s, %s' %(name, day))"
   ]
  },
  {
   "cell_type": "code",
   "execution_count": 33,
   "metadata": {},
   "outputs": [
    {
     "name": "stdout",
     "output_type": "stream",
     "text": [
      "Sum is: 36\n"
     ]
    }
   ],
   "source": [
    "items = [1, 10, 7, 4, 5, 9]\n",
    "\n",
    "def sum(arr):\n",
    "    head, *tail = arr\n",
    "    return head + sum(tail) if tail else head\n",
    "\n",
    "print('Sum is: %s'%sum(items))"
   ]
  },
  {
   "cell_type": "code",
   "execution_count": 65,
   "metadata": {},
   "outputs": [
    {
     "name": "stdout",
     "output_type": "stream",
     "text": [
      "['á', 'e', 'd', 'c', 'b']\n",
      "{'name': 'AAPL', 'shares': 50, 'price': 543.22}\n",
      "{'name': 'ACME', 'shares': 75, 'price': 115.65}\n",
      "{'name': 'IBM', 'shares': 100, 'price': 91.1}\n"
     ]
    }
   ],
   "source": [
    "import heapq\n",
    "#Find max - min\n",
    "arr = ['a', 'b', 'c', 'd', 'e',  'á']\n",
    "\n",
    "portfolio = [\n",
    "{'name': 'IBM', 'shares': 100, 'price': 91.1},\n",
    "{'name': 'AAPL', 'shares': 50, 'price': 543.22},\n",
    "{'name': 'FB', 'shares': 200, 'price': 21.09},\n",
    "{'name': 'HPQ', 'shares': 35, 'price': 31.75},\n",
    "{'name': 'YHOO', 'shares': 45, 'price': 16.35},\n",
    "{'name': 'ACME', 'shares': 75, 'price': 115.65}\n",
    "]\n",
    "\n",
    "def find_max(arr, n, lambda_in=None):\n",
    "    if n==1:\n",
    "        return max(arr)\n",
    "    else:\n",
    "        return heapq.nlargest(n, arr,key = lambda_in)\n",
    "    \n",
    "print(find_max(arr, 5))\n",
    "print(*find_max(portfolio, 3, lambda x: x['price']),sep='\\n')"
   ]
  },
  {
   "cell_type": "code",
   "execution_count": 80,
   "metadata": {},
   "outputs": [
    {
     "name": "stdout",
     "output_type": "stream",
     "text": [
      "[1, 8, 2, 23, 7, -4, 18, 23, 42, 37, 2]\n",
      "<class 'list'>\n",
      "1\n"
     ]
    }
   ],
   "source": [
    "#heapq\n",
    "lst = [1, 8, 2, 23, 7, -4, 18, 23, 42, 37, 2]\n",
    "import heapq\n",
    "heapq.heapify(lst)\n",
    "print(lst)\n",
    "print(type(lst))\n",
    "print(heapq.heappop(lst))"
   ]
  },
  {
   "cell_type": "code",
   "execution_count": null,
   "metadata": {},
   "outputs": [],
   "source": []
  }
 ],
 "metadata": {
  "kernelspec": {
   "display_name": "Python 3",
   "language": "python",
   "name": "python3"
  },
  "language_info": {
   "codemirror_mode": {
    "name": "ipython",
    "version": 3
   },
   "file_extension": ".py",
   "mimetype": "text/x-python",
   "name": "python",
   "nbconvert_exporter": "python",
   "pygments_lexer": "ipython3",
   "version": "3.7.4"
  }
 },
 "nbformat": 4,
 "nbformat_minor": 2
}
